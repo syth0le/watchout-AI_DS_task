{
 "cells": [
  {
   "cell_type": "code",
   "execution_count": 6,
   "metadata": {},
   "outputs": [],
   "source": [
    "from collections import Counter\n",
    "import pandas as pd\n",
    "from nltk.util import ngrams\n",
    "\n",
    "\n",
    "read_file = 'words_count.txt'\n",
    "test = 'copy_final.txt'\n",
    "n_dict = dict()\n",
    "i = 0"
   ]
  },
  {
   "cell_type": "code",
   "execution_count": 7,
   "metadata": {},
   "outputs": [],
   "source": [
    "def preprocess(string):\n",
    "    return string.split()\n",
    "\n",
    "# можно по всем n-граммам от 2 до 4(включительно)\n",
    "\n",
    "\n",
    "def extract_n_grams(sequence, n):\n",
    "    ngram = ngrams(sequence, n)\n",
    "    for item in ngram:\n",
    "        n_dict[item] = n_dict.get(item, 0) + 1"
   ]
  },
  {
   "cell_type": "code",
   "execution_count": null,
   "metadata": {},
   "outputs": [],
   "source": [
    "with open('temptig.txt') as corpus:\n",
    "    for line in corpus:\n",
    "        sequence = preprocess(line)\n",
    "        extract_n_grams(sequence)"
   ]
  },
  {
   "cell_type": "code",
   "execution_count": null,
   "metadata": {},
   "outputs": [],
   "source": [
    "with open(read_file) as corpus:\n",
    "    for line in corpus:\n",
    "        sequence = preprocess(line)\n",
    "        extract_n_grams(sequence)\n",
    "        #i += 1\n",
    "        #print(i, end=',')\n",
    "\n",
    "rez = Counter(n_dict)\n",
    "df = pd.DataFrame(rez.most_common(5000))\n",
    "df.to_csv('n_grams.txt')"
   ]
  }
 ],
 "metadata": {
  "kernelspec": {
   "display_name": "Python 3",
   "language": "python",
   "name": "python3"
  },
  "language_info": {
   "codemirror_mode": {
    "name": "ipython",
    "version": 3
   },
   "file_extension": ".py",
   "mimetype": "text/x-python",
   "name": "python",
   "nbconvert_exporter": "python",
   "pygments_lexer": "ipython3",
   "version": "3.7.6"
  }
 },
 "nbformat": 4,
 "nbformat_minor": 4
}
